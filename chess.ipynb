{
  "nbformat": 4,
  "nbformat_minor": 0,
  "metadata": {
    "colab": {
      "provenance": [],
      "authorship_tag": "ABX9TyO9G2tX53TfymAmfQlvFtsn",
      "include_colab_link": true
    },
    "kernelspec": {
      "name": "python3",
      "display_name": "Python 3"
    },
    "language_info": {
      "name": "python"
    }
  },
  "cells": [
    {
      "cell_type": "markdown",
      "metadata": {
        "id": "view-in-github",
        "colab_type": "text"
      },
      "source": [
        "<a href=\"https://colab.research.google.com/github/InowaR/python_chess/blob/main/chess.ipynb\" target=\"_parent\"><img src=\"https://colab.research.google.com/assets/colab-badge.svg\" alt=\"Open In Colab\"/></a>"
      ]
    },
    {
      "cell_type": "code",
      "execution_count": 219,
      "metadata": {
        "colab": {
          "base_uri": "https://localhost:8080/"
        },
        "id": "wGpJU3UpBLW9",
        "outputId": "becdb624-64e2-459a-cb60-378f1142b605",
        "cellView": "code"
      },
      "outputs": [
        {
          "output_type": "stream",
          "name": "stdout",
          "text": [
            "[[0. 0. 0. 0. 0. 0. 0. 0.]\n",
            " [0. 0. 0. 0. 0. 0. 0. 0.]\n",
            " [0. 0. 0. 0. 0. 0. 0. 0.]\n",
            " [0. 0. 0. 0. 0. 0. 0. 0.]\n",
            " [0. 0. 0. 0. 0. 0. 0. 0.]\n",
            " [0. 0. 0. 0. 0. 0. 0. 0.]\n",
            " [0. 0. 0. 0. 0. 0. 0. 0.]\n",
            " [0. 0. 0. 0. 1. 0. 0. 0.]]\n",
            "---------------------------\n",
            "[[0. 0. 0. 0. 0. 0. 0. 0.]\n",
            " [0. 0. 0. 0. 0. 0. 0. 0.]\n",
            " [0. 0. 0. 0. 0. 0. 0. 0.]\n",
            " [0. 0. 0. 0. 0. 0. 0. 0.]\n",
            " [0. 0. 0. 0. 0. 0. 0. 0.]\n",
            " [0. 0. 0. 0. 0. 0. 0. 0.]\n",
            " [0. 0. 0. 0. 1. 0. 0. 0.]\n",
            " [0. 0. 0. 0. 0. 0. 0. 0.]]\n"
          ]
        }
      ],
      "source": [
        "import numpy as np\n",
        "\n",
        "\n",
        "class Piece:\n",
        "  def __init__(self, color, x, y):\n",
        "    self.__color = color\n",
        "    self.__x = x\n",
        "    self.__y = y\n",
        "\n",
        "  def __str__(self):\n",
        "    return f'{self.__x},{self.__y}'\n",
        "\n",
        "  @property\n",
        "  def color(self):\n",
        "    return self.__color\n",
        "\n",
        "  @property\n",
        "  def x(self):\n",
        "    return self.__x\n",
        "\n",
        "  @x.setter\n",
        "  def x(self, x):\n",
        "    self.__x = x\n",
        "\n",
        "  @property\n",
        "  def y(self):\n",
        "    return self.__y\n",
        "\n",
        "  @y.setter\n",
        "  def y(self, y):\n",
        "    self.__y = y\n",
        "\n",
        "\n",
        "a = Piece('white', 'e', '1') # e1\n",
        "\n",
        "class Board:\n",
        "  def __init__(self):\n",
        "    self.board = np.zeros((8,8))\n",
        "    self.start_chess_list = [a]\n",
        "\n",
        "  def print_board(self):\n",
        "    print(self.board)\n",
        "\n",
        "  def start(self):\n",
        "    horizontal = {'a':'0', 'b':'1', 'c':'2', 'd':'3', 'e':'4', 'f':'5', 'g':'6', 'h':'7'}\n",
        "    vertical = {'8':'0', '7':'1', '6':'2', '5':'3', '4':'4', '3':'5', '2':'6', '1':'7'}\n",
        "    for piece in self.start_chess_list:\n",
        "      y = int(horizontal[piece.x])\n",
        "      x = int(vertical[piece.y])\n",
        "      self.board[x][y] = 1\n",
        "\n",
        "  def move(self, color, x_old, y_old, x_new, y_new):\n",
        "    if color == 'white':\n",
        "      horizontal = {'a':'0', 'b':'1', 'c':'2', 'd':'3', 'e':'4', 'f':'5', 'g':'6', 'h':'7'}\n",
        "      vertical = {'8':'0', '7':'1', '6':'2', '5':'3', '4':'4', '3':'5', '2':'6', '1':'7'}\n",
        "      x_old = int(horizontal[x_old])\n",
        "      y_old = int(vertical[y_old])\n",
        "      x_new = int(horizontal[x_new])\n",
        "      y_new = int(vertical[y_new])\n",
        "      for piece in self.start_chess_list:\n",
        "        x = int(horizontal[piece.x])\n",
        "        y = int(vertical[piece.y])\n",
        "        if x == x_old and y == y_old:\n",
        "          self.board[y_new][x_new] = 1\n",
        "          self.board[y_old][x_old] = 0\n",
        "\n",
        "  def rotate_board(self):\n",
        "    self.board = np.rot90(self.board, 2)\n",
        "\n",
        "g = Board()\n",
        "g.start()\n",
        "g.print_board()\n",
        "print('---------------------------')\n",
        "g.move('white','e','1','e','2')\n",
        "g.print_board()"
      ]
    }
  ]
}